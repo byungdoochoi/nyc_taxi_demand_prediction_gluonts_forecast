{
 "cells": [
  {
   "cell_type": "markdown",
   "id": "06995bb4",
   "metadata": {},
   "source": [
    "## 0. Prepare data set\n",
    "\n",
    "In this step, we download raw data for the processing in the next notebook."
   ]
  },
  {
   "cell_type": "markdown",
   "id": "3d684b0c",
   "metadata": {},
   "source": [
    "TLC trip record data site provides yellow and green taxi trip records in parquet format. <br>\n",
    "https://www.nyc.gov/site/tlc/about/tlc-trip-record-data.page"
   ]
  },
  {
   "cell_type": "markdown",
   "id": "3b2fc321",
   "metadata": {},
   "source": [
    "First, we need one or two file build compose a script for pre-processing of large data set. Here we download a couple of files and store them under './taxi/' like below."
   ]
  },
  {
   "cell_type": "markdown",
   "id": "07cb06e4",
   "metadata": {},
   "source": [
    "![local storage sample file](./assets/sample_raw_files.png)"
   ]
  },
  {
   "cell_type": "markdown",
   "id": "9b8fa8ca",
   "metadata": {},
   "source": [
    "Second, we need a whole data set that you want to train your models and to test against the ground test. Especially, in this work we trigger muliple pre-processing jobs i.e. one job per a folder. <br>\n",
    "Here we create 4 folers with year like below."
   ]
  },
  {
   "cell_type": "markdown",
   "id": "5c921335",
   "metadata": {},
   "source": [
    "\n",
    "![s3 raw data folders](./assets/raw_data_folders.png)"
   ]
  },
  {
   "cell_type": "markdown",
   "id": "d6bc16ba",
   "metadata": {},
   "source": [
    "Each folder contains a number of data files in parquet format as downloaded. A pre-processing job reads files one by one, process then aggregate then into one file."
   ]
  },
  {
   "cell_type": "markdown",
   "id": "142af6dc",
   "metadata": {},
   "source": [
    "![s3 raw data files](./assets/s3_raw_files.png)"
   ]
  },
  {
   "cell_type": "code",
   "execution_count": null,
   "id": "3de30d59",
   "metadata": {},
   "outputs": [],
   "source": []
  }
 ],
 "metadata": {
  "kernelspec": {
   "display_name": "conda_python3",
   "language": "python",
   "name": "conda_python3"
  },
  "language_info": {
   "codemirror_mode": {
    "name": "ipython",
    "version": 3
   },
   "file_extension": ".py",
   "mimetype": "text/x-python",
   "name": "python",
   "nbconvert_exporter": "python",
   "pygments_lexer": "ipython3",
   "version": "3.10.8"
  }
 },
 "nbformat": 4,
 "nbformat_minor": 5
}
