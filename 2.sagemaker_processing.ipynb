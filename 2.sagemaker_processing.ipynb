{
 "cells": [
  {
   "cell_type": "markdown",
   "metadata": {},
   "source": [
    "## 2. Amazon Sagemaker processing jobs\n",
    "\n",
    "In the previous notebook, we have decided the pre-processing steps for the raw data. Here we trigger Sagemaker processing jobs to pre-process the whole raw data for training. Especially, we take a benefit of Sagemaker by triggering **multiple processing jobs for parallel processing**."
   ]
  },
  {
   "cell_type": "code",
   "execution_count": 2,
   "metadata": {},
   "outputs": [
    {
     "name": "stdout",
     "output_type": "stream",
     "text": [
      "Looking in indexes: https://pypi.org/simple, https://pip.repos.neuron.amazonaws.com\n",
      "Requirement already satisfied: boto3 in /home/ec2-user/anaconda3/envs/python3/lib/python3.10/site-packages (1.26.44)\n",
      "Collecting boto3\n",
      "  Downloading boto3-1.26.74-py3-none-any.whl (132 kB)\n",
      "\u001b[2K     \u001b[90m━━━━━━━━━━━━━━━━━━━━━━━━━━━━━━━━━━━━━━\u001b[0m \u001b[32m132.7/132.7 kB\u001b[0m \u001b[31m12.0 MB/s\u001b[0m eta \u001b[36m0:00:00\u001b[0m\n",
      "\u001b[?25hRequirement already satisfied: sagemaker in /home/ec2-user/anaconda3/envs/python3/lib/python3.10/site-packages (2.127.0)\n",
      "Collecting sagemaker\n",
      "  Downloading sagemaker-2.133.0.tar.gz (671 kB)\n",
      "\u001b[2K     \u001b[90m━━━━━━━━━━━━━━━━━━━━━━━━━━━━━━━━━━━━━━\u001b[0m \u001b[32m671.5/671.5 kB\u001b[0m \u001b[31m29.9 MB/s\u001b[0m eta \u001b[36m0:00:00\u001b[0m\n",
      "\u001b[?25h  Preparing metadata (setup.py) ... \u001b[?25ldone\n",
      "\u001b[?25hCollecting botocore<1.30.0,>=1.29.74\n",
      "  Downloading botocore-1.29.74-py3-none-any.whl (10.4 MB)\n",
      "\u001b[2K     \u001b[90m━━━━━━━━━━━━━━━━━━━━━━━━━━━━━━━━━━━━━━━━\u001b[0m \u001b[32m10.4/10.4 MB\u001b[0m \u001b[31m37.9 MB/s\u001b[0m eta \u001b[36m0:00:00\u001b[0m00:01\u001b[0m00:01\u001b[0m\n",
      "\u001b[?25hRequirement already satisfied: jmespath<2.0.0,>=0.7.1 in /home/ec2-user/anaconda3/envs/python3/lib/python3.10/site-packages (from boto3) (0.10.0)\n",
      "Requirement already satisfied: s3transfer<0.7.0,>=0.6.0 in /home/ec2-user/anaconda3/envs/python3/lib/python3.10/site-packages (from boto3) (0.6.0)\n",
      "Requirement already satisfied: attrs<23,>=20.3.0 in /home/ec2-user/anaconda3/envs/python3/lib/python3.10/site-packages (from sagemaker) (22.1.0)\n",
      "Requirement already satisfied: google-pasta in /home/ec2-user/anaconda3/envs/python3/lib/python3.10/site-packages (from sagemaker) (0.2.0)\n",
      "Requirement already satisfied: numpy<2.0,>=1.9.0 in /home/ec2-user/anaconda3/envs/python3/lib/python3.10/site-packages (from sagemaker) (1.22.4)\n",
      "Requirement already satisfied: protobuf<4.0,>=3.1 in /home/ec2-user/anaconda3/envs/python3/lib/python3.10/site-packages (from sagemaker) (3.20.3)\n",
      "Requirement already satisfied: protobuf3-to-dict<1.0,>=0.1.5 in /home/ec2-user/anaconda3/envs/python3/lib/python3.10/site-packages (from sagemaker) (0.1.5)\n",
      "Requirement already satisfied: smdebug_rulesconfig==1.0.1 in /home/ec2-user/anaconda3/envs/python3/lib/python3.10/site-packages (from sagemaker) (1.0.1)\n",
      "Requirement already satisfied: importlib-metadata<5.0,>=1.4.0 in /home/ec2-user/anaconda3/envs/python3/lib/python3.10/site-packages (from sagemaker) (4.13.0)\n",
      "Requirement already satisfied: packaging>=20.0 in /home/ec2-user/anaconda3/envs/python3/lib/python3.10/site-packages (from sagemaker) (21.3)\n",
      "Requirement already satisfied: pandas in /home/ec2-user/anaconda3/envs/python3/lib/python3.10/site-packages (from sagemaker) (1.5.1)\n",
      "Requirement already satisfied: pathos in /home/ec2-user/anaconda3/envs/python3/lib/python3.10/site-packages (from sagemaker) (0.3.0)\n",
      "Requirement already satisfied: schema in /home/ec2-user/anaconda3/envs/python3/lib/python3.10/site-packages (from sagemaker) (0.7.5)\n",
      "Requirement already satisfied: urllib3<1.27,>=1.25.4 in /home/ec2-user/anaconda3/envs/python3/lib/python3.10/site-packages (from botocore<1.30.0,>=1.29.74->boto3) (1.26.8)\n",
      "Requirement already satisfied: python-dateutil<3.0.0,>=2.1 in /home/ec2-user/anaconda3/envs/python3/lib/python3.10/site-packages (from botocore<1.30.0,>=1.29.74->boto3) (2.8.2)\n",
      "Requirement already satisfied: zipp>=0.5 in /home/ec2-user/anaconda3/envs/python3/lib/python3.10/site-packages (from importlib-metadata<5.0,>=1.4.0->sagemaker) (3.10.0)\n",
      "Requirement already satisfied: pyparsing!=3.0.5,>=2.0.2 in /home/ec2-user/anaconda3/envs/python3/lib/python3.10/site-packages (from packaging>=20.0->sagemaker) (3.0.9)\n",
      "Requirement already satisfied: six in /home/ec2-user/anaconda3/envs/python3/lib/python3.10/site-packages (from protobuf3-to-dict<1.0,>=0.1.5->sagemaker) (1.16.0)\n",
      "Requirement already satisfied: pytz>=2020.1 in /home/ec2-user/anaconda3/envs/python3/lib/python3.10/site-packages (from pandas->sagemaker) (2022.5)\n",
      "Requirement already satisfied: multiprocess>=0.70.14 in /home/ec2-user/anaconda3/envs/python3/lib/python3.10/site-packages (from pathos->sagemaker) (0.70.14)\n",
      "Requirement already satisfied: dill>=0.3.6 in /home/ec2-user/anaconda3/envs/python3/lib/python3.10/site-packages (from pathos->sagemaker) (0.3.6)\n",
      "Requirement already satisfied: pox>=0.3.2 in /home/ec2-user/anaconda3/envs/python3/lib/python3.10/site-packages (from pathos->sagemaker) (0.3.2)\n",
      "Requirement already satisfied: ppft>=1.7.6.6 in /home/ec2-user/anaconda3/envs/python3/lib/python3.10/site-packages (from pathos->sagemaker) (1.7.6.6)\n",
      "Requirement already satisfied: contextlib2>=0.5.5 in /home/ec2-user/anaconda3/envs/python3/lib/python3.10/site-packages (from schema->sagemaker) (21.6.0)\n",
      "Building wheels for collected packages: sagemaker\n",
      "  Building wheel for sagemaker (setup.py) ... \u001b[?25ldone\n",
      "\u001b[?25h  Created wheel for sagemaker: filename=sagemaker-2.133.0-py2.py3-none-any.whl size=908931 sha256=8eb89ebdc6e1174750f53e46fed8a8a05ac3a94cae74bc0048bbaf659d84e7ef\n",
      "  Stored in directory: /home/ec2-user/.cache/pip/wheels/d4/3b/d6/3b701d2e6779e4bbefc78407bb925429c5b0b07a0126990ee0\n",
      "Successfully built sagemaker\n",
      "Installing collected packages: botocore, boto3, sagemaker\n",
      "  Attempting uninstall: botocore\n",
      "    Found existing installation: botocore 1.24.19\n",
      "    Uninstalling botocore-1.24.19:\n",
      "      Successfully uninstalled botocore-1.24.19\n",
      "  Attempting uninstall: boto3\n",
      "    Found existing installation: boto3 1.26.44\n",
      "    Uninstalling boto3-1.26.44:\n",
      "      Successfully uninstalled boto3-1.26.44\n",
      "  Attempting uninstall: sagemaker\n",
      "    Found existing installation: sagemaker 2.127.0\n",
      "    Uninstalling sagemaker-2.127.0:\n",
      "      Successfully uninstalled sagemaker-2.127.0\n",
      "\u001b[31mERROR: pip's dependency resolver does not currently take into account all the packages that are installed. This behaviour is the source of the following dependency conflicts.\n",
      "awscli 1.27.44 requires botocore==1.29.44, but you have botocore 1.29.74 which is incompatible.\n",
      "aiobotocore 2.0.1 requires botocore<1.22.9,>=1.22.8, but you have botocore 1.29.74 which is incompatible.\u001b[0m\u001b[31m\n",
      "\u001b[0mSuccessfully installed boto3-1.26.74 botocore-1.29.74 sagemaker-2.133.0\n",
      "Note: you may need to restart the kernel to use updated packages.\n"
     ]
    }
   ],
   "source": [
    "%pip install --upgrade boto3 sagemaker"
   ]
  },
  {
   "cell_type": "code",
   "execution_count": 1,
   "metadata": {},
   "outputs": [],
   "source": [
    "import boto3\n",
    "import sagemaker\n",
    "from sagemaker import get_execution_role\n",
    "from sagemaker.sklearn.processing import SKLearnProcessor\n",
    "\n",
    "region = sagemaker.Session().boto_region_name\n",
    "role = get_execution_role()\n",
    "sklearn_processor = SKLearnProcessor(\n",
    "    framework_version=\"1.0-1\", role=role, instance_type=\"ml.m5.xlarge\", instance_count=1\n",
    ")"
   ]
  },
  {
   "cell_type": "markdown",
   "metadata": {},
   "source": [
    "### Prepare Processing script\n",
    "\n",
    "In this script, we 1) read parquet files in a given directory, 2) pre-process e.g. clean data and generate a target feature, called 'count', 3) aggregate the date into one file."
   ]
  },
  {
   "cell_type": "code",
   "execution_count": 19,
   "metadata": {},
   "outputs": [
    {
     "name": "stdout",
     "output_type": "stream",
     "text": [
      "Overwriting preprocessing.py\n"
     ]
    }
   ],
   "source": [
    "%%writefile preprocessing.py\n",
    "import pandas as pd\n",
    "import glob\n",
    "import argparse\n",
    "\n",
    "def _parse_args():\n",
    "    parser = argparse.ArgumentParser()\n",
    "    parser.add_argument('--foldername', type=str, default='_no_given_name_')\n",
    "    return parser.parse_known_args()\n",
    "\n",
    "if __name__==\"__main__\":\n",
    "    # Process arguments\n",
    "    args, _ = _parse_args()\n",
    "    # Load data\n",
    "    print(\"processing \" + args.foldername)\n",
    "\n",
    "    files = glob.glob(\"/opt/ml/processing/input/*.parquet\")\n",
    "    print(files)\n",
    "    \n",
    "    columns_to_read = [\"tpep_pickup_datetime\", \"tpep_dropoff_datetime\", \"trip_distance\", \n",
    "                       \"PULocationID\", \"total_amount\"]\n",
    "    procssed = pd.DataFrame()\n",
    "    \n",
    "    for file in files:\n",
    "\n",
    "        print(f\"reading {file}\")\n",
    "        df = pd.read_parquet(file, columns=columns_to_read)\n",
    "\n",
    "        print(df.isnull().sum())\n",
    "        df = df.dropna()\n",
    "\n",
    "        df['duration'] = (df['tpep_dropoff_datetime'] - df['tpep_pickup_datetime']).dt.total_seconds() / 60\n",
    "            \n",
    "        df = df[df['trip_distance'] > 0]\n",
    "        df = df[df['total_amount'] > 0]\n",
    "        df = df[df['duration'] > 0]\n",
    "        outlier_columns = ['trip_distance', 'total_amount', 'duration']\n",
    "        sigma2 = 0.9544\n",
    "        sigma3 = 0.9973\n",
    "        sigma4 = 0.9999\n",
    "        for c in outlier_columns:\n",
    "            s1 = df[c].quantile(sigma4)\n",
    "            s0 = df[c].quantile(1-sigma4)\n",
    "            df = df.drop(df[df[c] > s1].index)\n",
    "            df = df.drop(df[df[c] < s0].index)\n",
    "            \n",
    "        df['pickup_time'] = df['tpep_pickup_datetime'].dt.floor('h')\n",
    "        df = df.drop(columns=['tpep_pickup_datetime', 'tpep_dropoff_datetime'])\n",
    "        df['count'] = df.groupby(by=['pickup_time', 'PULocationID'])['duration'].transform('size')\n",
    "        df_agg = df.sort_values(by=['pickup_time', 'PULocationID'], ascending=True)\\\n",
    "                                    .groupby(by=['pickup_time', 'PULocationID'])\\\n",
    "                                    .mean(numeric_only=False)\n",
    "        df_agg = df_agg.reset_index()\n",
    "        procssed = pd.concat([procssed, df_agg], ignore_index=True)\n",
    "    \n",
    "    procssed.sort_values(by=['pickup_time', 'PULocationID'])\\\n",
    "        .to_csv(\"/opt/ml/processing/output/\" + args.foldername + \"_processed.csv\")\n",
    "    print(\"wrote files successfully\")\n",
    "\n",
    "    print(\"completed running processing job\")"
   ]
  },
  {
   "cell_type": "markdown",
   "metadata": {},
   "source": [
    "### Run Processing job\n",
    "\n",
    "We trigger 4 sklearn processing jobs per each year directory, that has 12 months raw data files. Please, make sure we set wait=False for immediate return a.k.a asynchronos api call. Each job will take a few minutes."
   ]
  },
  {
   "cell_type": "code",
   "execution_count": 20,
   "metadata": {
    "scrolled": true
   },
   "outputs": [],
   "source": [
    "%%capture output\n",
    "\n",
    "from sagemaker.processing import ProcessingInput, ProcessingOutput\n",
    "\n",
    "my_bucket_name = \"s3://[my bucket name]\"\n",
    "folders = [\"2019\", \"2020\", \"2021\", \"2022\"]\n",
    "for folder in folders:\n",
    "    sklearn_processor.run(\n",
    "        code=\"preprocessing.py\",\n",
    "        arguments = [\"--foldername\", folder],\n",
    "        inputs=[ProcessingInput(source=f\"{my_bucket_name}/nyc-taxi-trip-data/\" + folder, \n",
    "                                destination=\"/opt/ml/processing/input/\")],\n",
    "        outputs=[ProcessingOutput(source=\"/opt/ml/processing/output/\", \n",
    "                                  destination=f\"{my_bucket_name}/nyc-taxi-trip-data-processed/\")],\n",
    "        wait=False\n",
    "    )    \n",
    "    "
   ]
  },
  {
   "cell_type": "markdown",
   "metadata": {},
   "source": [
    "Please, see the job progress in AWS console. Once the jobs have been successfully completed you can go to the training."
   ]
  }
 ],
 "metadata": {
  "kernelspec": {
   "display_name": "conda_python3",
   "language": "python",
   "name": "conda_python3"
  },
  "language_info": {
   "codemirror_mode": {
    "name": "ipython",
    "version": 3
   },
   "file_extension": ".py",
   "mimetype": "text/x-python",
   "name": "python",
   "nbconvert_exporter": "python",
   "pygments_lexer": "ipython3",
   "version": "3.10.8"
  }
 },
 "nbformat": 4,
 "nbformat_minor": 4
}
